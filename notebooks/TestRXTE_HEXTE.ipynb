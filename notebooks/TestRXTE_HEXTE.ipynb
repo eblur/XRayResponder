{
 "cells": [
  {
   "cell_type": "markdown",
   "metadata": {
    "deletable": true,
    "editable": true
   },
   "source": [
    "# Responses for RXTE HEXTE"
   ]
  },
  {
   "cell_type": "code",
   "execution_count": 1,
   "metadata": {
    "collapsed": false,
    "deletable": true,
    "editable": true
   },
   "outputs": [
    {
     "name": "stdout",
     "output_type": "stream",
     "text": [
      "WARNING: imaging routines will not be available, \n",
      "failed to import sherpa.image.ds9_backend due to \n",
      "'RuntimeErr: DS9Win unusable: Could not find ds9 on your PATH'\n",
      "WARNING: failed to import WCS module; WCS routines will not be available\n",
      "WARNING: failed to import sherpa.astro.xspec; XSPEC models will not be available\n"
     ]
    }
   ],
   "source": [
    "import matplotlib.pyplot as plt\n",
    "%matplotlib inline\n",
    "# try:\n",
    "#     import seaborn as sns\n",
    "# except ImportError:\n",
    "#     print(\"No seaborn installed. Oh well.\")\n",
    "    \n",
    "import numpy as np \n",
    "# import pandas as pd\n",
    "import astropy.io.fits as fits\n",
    "from astropy.table import Table\n",
    "import sherpa.astro.ui as ui\n",
    "import astropy.modeling.models as models\n",
    "from astropy.modeling.fitting import _fitter_to_model_params\n",
    "from scipy.special import gammaln as scipy_gammaln\n",
    "import os.path\n",
    "\n",
    "# from clarsach.respond import RMF, ARF"
   ]
  },
  {
   "cell_type": "markdown",
   "metadata": {
    "deletable": true,
    "editable": true
   },
   "source": [
    "### Sherpa Stuff\n",
    "\n",
    "Daniela is doing some sherpa testing right now ..."
   ]
  },
  {
   "cell_type": "code",
   "execution_count": 2,
   "metadata": {
    "collapsed": false,
    "deletable": true,
    "editable": true
   },
   "outputs": [
    {
     "name": "stdout",
     "output_type": "stream",
     "text": [
      "read ARF file ./rxte_hexte_00may26_pwa.arf\n",
      "read RMF file ./rxte_hexte_97mar20c_pwa.rmf\n"
     ]
    }
   ],
   "source": [
    "datadir = \"./\"\n",
    "ui.load_data(id=\"p1\", filename=datadir+\"RXTE_HEXTE_ClusterA.fak\")"
   ]
  },
  {
   "cell_type": "code",
   "execution_count": 3,
   "metadata": {
    "collapsed": true,
    "deletable": true,
    "editable": true
   },
   "outputs": [],
   "source": [
    "d = ui.get_data(\"p1\")"
   ]
  },
  {
   "cell_type": "code",
   "execution_count": 4,
   "metadata": {
    "collapsed": false,
    "deletable": true,
    "editable": true
   },
   "outputs": [
    {
     "name": "stdout",
     "output_type": "stream",
     "text": [
      "None\n"
     ]
    }
   ],
   "source": [
    "# conversion factor from keV to angstrom\n",
    "c = 12.3984191\n",
    "\n",
    "# This is the data in angstrom\n",
    "bin_lo = d.bin_lo\n",
    "bin_hi = d.bin_hi\n",
    "print(bin_lo)\n",
    "counts = d.counts\n",
    "exposure = d.exposure\n",
    "\n",
    "channel = d.channel"
   ]
  },
  {
   "cell_type": "markdown",
   "metadata": {
    "deletable": true,
    "editable": true
   },
   "source": [
    "RXTE does not have `BIN_LO` and `BIN_HI` set. Because of course it doesn't."
   ]
  },
  {
   "cell_type": "code",
   "execution_count": 5,
   "metadata": {
    "collapsed": false,
    "deletable": true,
    "editable": true
   },
   "outputs": [
    {
     "data": {
      "text/plain": [
       "[<matplotlib.lines.Line2D at 0x107bf05f8>]"
      ]
     },
     "execution_count": 5,
     "metadata": {},
     "output_type": "execute_result"
    },
    {
     "data": {
      "image/png": "[encoded data removed]",
      "text/plain": [
       "<matplotlib.figure.Figure at 0x10691b7b8>"
      ]
     },
     "metadata": {},
     "output_type": "display_data"
    }
   ],
   "source": [
    "plt.figure(figsize=(10,7))\n",
    "plt.plot(channel, counts)"
   ]
  },
  {
   "cell_type": "markdown",
   "metadata": {
    "deletable": true,
    "editable": true
   },
   "source": [
    "RXTE HEXTE has an ARF, just like a regular X-ray telescope (and unlike RXTE/PCA, which doesn't):"
   ]
  },
  {
   "cell_type": "code",
   "execution_count": 6,
   "metadata": {
    "collapsed": true
   },
   "outputs": [],
   "source": [
    "arf_list = fits.open(datadir+\"rxte_hexte_00may26_pwa.arf\")"
   ]
  },
  {
   "cell_type": "code",
   "execution_count": 7,
   "metadata": {
    "collapsed": false
   },
   "outputs": [
    {
     "data": {
      "text/plain": [
       "array([ 10.        ,  10.32999992,  10.67000008,  11.        ,\n",
       "        11.32999992,  11.67000008,  12.        ,  12.32999992,\n",
       "        12.67000008,  13.        ], dtype=float32)"
      ]
     },
     "execution_count": 7,
     "metadata": {},
     "output_type": "execute_result"
    }
   ],
   "source": [
    "arf_list[1].data.field(\"ENERG_LO\")[:10]"
   ]
  },
  {
   "cell_type": "code",
   "execution_count": 8,
   "metadata": {
    "collapsed": false
   },
   "outputs": [
    {
     "data": {
      "text/plain": [
       "ColDefs(\n",
       "    name = 'ENERG_LO'; format = 'E'; unit = 'keV'\n",
       "    name = 'ENERG_HI'; format = 'E'; unit = 'keV'\n",
       "    name = 'SPECRESP'; format = 'E'; unit = 'cm**2'\n",
       ")"
      ]
     },
     "execution_count": 8,
     "metadata": {},
     "output_type": "execute_result"
    }
   ],
   "source": [
    "arf_list[1].data.columns"
   ]
  },
  {
   "cell_type": "code",
   "execution_count": 9,
   "metadata": {
    "collapsed": true
   },
   "outputs": [],
   "source": [
    "specresp = arf_list[1].data.field(\"SPECRESP\")\n",
    "energ_lo = arf_list[1].data.field(\"ENERG_LO\")\n",
    "energ_hi = arf_list[1].data.field(\"ENERG_HI\")"
   ]
  },
  {
   "cell_type": "code",
   "execution_count": 10,
   "metadata": {
    "collapsed": false
   },
   "outputs": [
    {
     "data": {
      "text/plain": [
       "(970,)"
      ]
     },
     "execution_count": 10,
     "metadata": {},
     "output_type": "execute_result"
    }
   ],
   "source": [
    "energ_lo.shape"
   ]
  },
  {
   "cell_type": "markdown",
   "metadata": {},
   "source": [
    "Let's also load the rmf:"
   ]
  },
  {
   "cell_type": "code",
   "execution_count": 11,
   "metadata": {
    "collapsed": false,
    "deletable": true,
    "editable": true
   },
   "outputs": [
    {
     "data": {
      "text/plain": [
       "'keV'"
      ]
     },
     "execution_count": 11,
     "metadata": {},
     "output_type": "execute_result"
    }
   ],
   "source": [
    "rmf_list = fits.open(datadir+\"rxte_hexte_97mar20c_pwa.rmf\")\n",
    "rmf_list[1].header[\"TUNIT1\"]"
   ]
  },
  {
   "cell_type": "code",
   "execution_count": 12,
   "metadata": {
    "collapsed": false,
    "deletable": true,
    "editable": true
   },
   "outputs": [
    {
     "name": "stdout",
     "output_type": "stream",
     "text": [
      "Filename: ./rxte_hexte_97mar20c_pwa.rmf\n",
      "No.    Name         Type      Cards   Dimensions   Format\n",
      "  0  PRIMARY     PrimaryHDU      10   ()      \n",
      "  1  MATRIX      BinTableHDU     52   970R x 6C   [1E, 1E, 1I, 3I, 3I, 1PE(251)]   \n",
      "  2  EBOUNDS     BinTableHDU     44   256R x 3C   [1I, 1E, 1E]   \n"
     ]
    }
   ],
   "source": [
    "rmf_list.info()"
   ]
  },
  {
   "cell_type": "code",
   "execution_count": 13,
   "metadata": {
    "collapsed": false,
    "deletable": true,
    "editable": true
   },
   "outputs": [
    {
     "data": {
      "text/plain": [
       "ColDefs(\n",
       "    name = 'CHANNEL'; format = '1I'; null = -1\n",
       "    name = 'E_MIN'; format = '1E'; unit = 'keV'\n",
       "    name = 'E_MAX'; format = '1E'; unit = 'keV'\n",
       ")"
      ]
     },
     "execution_count": 13,
     "metadata": {},
     "output_type": "execute_result"
    }
   ],
   "source": [
    "rmf_list[\"EBOUNDS\"].columns"
   ]
  },
  {
   "cell_type": "code",
   "execution_count": 14,
   "metadata": {
    "collapsed": false,
    "deletable": true,
    "editable": true
   },
   "outputs": [],
   "source": [
    "energ_lo = rmf_list[\"MATRIX\"].data.field(\"ENERG_LO\")\n",
    "energ_hi = rmf_list[\"MATRIX\"].data.field(\"ENERG_HI\")\n",
    "\n",
    "bin_lo = rmf_list[\"EBOUNDS\"].data.field(\"E_MIN\")\n",
    "bin_hi = rmf_list[\"EBOUNDS\"].data.field(\"E_MAX\")\n",
    "bin_mid = bin_lo + (bin_hi - bin_lo)/2."
   ]
  },
  {
   "cell_type": "markdown",
   "metadata": {
    "deletable": true,
    "editable": true
   },
   "source": [
    "Ok, so all of our files have the same units. This is good.\n",
    "\n",
    "Let's also get the ARF and RMF from sherpa:"
   ]
  },
  {
   "cell_type": "code",
   "execution_count": 15,
   "metadata": {
    "collapsed": true
   },
   "outputs": [],
   "source": [
    "arf = d.get_arf()"
   ]
  },
  {
   "cell_type": "code",
   "execution_count": 16,
   "metadata": {
    "collapsed": false,
    "deletable": true,
    "editable": true
   },
   "outputs": [
    {
     "data": {
      "text/plain": [
       "<DataRMF data set instance './rxte_hexte_97mar20c_pwa.rmf'>"
      ]
     },
     "execution_count": 16,
     "metadata": {},
     "output_type": "execute_result"
    }
   ],
   "source": [
    "rmf = d.get_rmf()\n",
    "rmf"
   ]
  },
  {
   "cell_type": "markdown",
   "metadata": {
    "deletable": true,
    "editable": true
   },
   "source": [
    "Now we can make a model spectrum we can play around with! `clarsach` has an implementation of a Powerlaw model that matches the `ISIS` one that created the data:"
   ]
  },
  {
   "cell_type": "code",
   "execution_count": 17,
   "metadata": {
    "collapsed": true,
    "deletable": true,
    "editable": true
   },
   "outputs": [],
   "source": [
    "from clarsach.models.powerlaw import Powerlaw"
   ]
  },
  {
   "cell_type": "code",
   "execution_count": 18,
   "metadata": {
    "collapsed": true,
    "deletable": true,
    "editable": true
   },
   "outputs": [],
   "source": [
    "pl = Powerlaw(norm=1.0, phoindex=2.0)"
   ]
  },
  {
   "cell_type": "code",
   "execution_count": 19,
   "metadata": {
    "collapsed": true,
    "deletable": true,
    "editable": true
   },
   "outputs": [],
   "source": [
    "m = pl.calculate(ener_lo=energ_lo, ener_hi=energ_hi)"
   ]
  },
  {
   "cell_type": "code",
   "execution_count": 20,
   "metadata": {
    "collapsed": false,
    "deletable": true,
    "editable": true
   },
   "outputs": [
    {
     "data": {
      "text/plain": [
       "[<matplotlib.lines.Line2D at 0x106d64a20>]"
      ]
     },
     "execution_count": 20,
     "metadata": {},
     "output_type": "execute_result"
    },
    {
     "data": {
      "image/png": "[encoded data removed]",
      "text/plain": [
       "<matplotlib.figure.Figure at 0x106d5cf98>"
      ]
     },
     "metadata": {},
     "output_type": "display_data"
    }
   ],
   "source": [
    "plt.figure()\n",
    "plt.loglog(energ_lo, m)"
   ]
  },
  {
   "cell_type": "code",
   "execution_count": 21,
   "metadata": {
    "collapsed": false,
    "deletable": true,
    "editable": true
   },
   "outputs": [],
   "source": [
    "m_arf = arf.apply_arf(m)\n",
    "m_rmf = rmf.apply_rmf(m_arf)"
   ]
  },
  {
   "cell_type": "code",
   "execution_count": 22,
   "metadata": {
    "collapsed": false,
    "deletable": true,
    "editable": true
   },
   "outputs": [
    {
     "data": {
      "text/plain": [
       "<matplotlib.legend.Legend at 0x10855c9b0>"
      ]
     },
     "execution_count": 22,
     "metadata": {},
     "output_type": "execute_result"
    },
    {
     "data": {
      "image/png": "[encoded data removed]",
      "text/plain": [
       "<matplotlib.figure.Figure at 0x107caf8d0>"
      ]
     },
     "metadata": {},
     "output_type": "display_data"
    }
   ],
   "source": [
    "plt.figure()\n",
    "plt.plot(bin_mid, counts, label=\"data\")\n",
    "plt.plot(bin_mid, m_rmf*1e5, label=\"model with RMF\")\n",
    "plt.legend()"
   ]
  },
  {
   "cell_type": "markdown",
   "metadata": {},
   "source": [
    "Let's save model with ARF and RMF applied:"
   ]
  },
  {
   "cell_type": "code",
   "execution_count": 23,
   "metadata": {
    "collapsed": false
   },
   "outputs": [],
   "source": [
    "np.savetxt(\"../data/rxte_hexte_m_arf.txt\", np.array([energ_lo, m_arf]).T)\n",
    "np.savetxt(\"../data/rxte_hexte_m_rmf.txt\", np.array([bin_mid, m_rmf]).T)"
   ]
  },
  {
   "cell_type": "markdown",
   "metadata": {
    "deletable": true,
    "editable": true
   },
   "source": [
    "Okay, that looks pretty good!\n",
    "\n",
    "### Building a Model\n",
    "\n",
    "Let's build a model for fitting a model to the data. We're going to do nothing fancy here, just a simple Poisson likelihood. It's similar to the one in the `TestAthenaXIFU` notebook, except it uses the `Clarsach` powerlaw function and integrates over bins."
   ]
  },
  {
   "cell_type": "code",
   "execution_count": 24,
   "metadata": {
    "collapsed": true,
    "deletable": true,
    "editable": true
   },
   "outputs": [],
   "source": [
    "class PoissonLikelihood(object):\n",
    "    \n",
    "    def __init__(self, x_low, x_high, y, model, arf=None, rmf=None, exposure=1.0):\n",
    "        self.x_low = x_low\n",
    "        self.x_high = x_high\n",
    "        self.y = y\n",
    "        self.model = model\n",
    "        self.arf = arf\n",
    "        self.rmf = rmf\n",
    "        self.exposure = exposure\n",
    "        \n",
    "    def evaluate(self, pars):\n",
    "        # store the new parameters in the model\n",
    "\n",
    "        self.model.norm = pars[0]\n",
    "        self.model.phoindex = pars[1]\n",
    "        \n",
    "        # evaluate the model at the positions x\n",
    "        mean_model = self.model.calculate(self.x_low, self.x_high)\n",
    "\n",
    "        # run the ARF and RMF calculations\n",
    "        if self.arf is not None:\n",
    "            m_arf = self.arf.apply_arf(mean_model)\n",
    "            \n",
    "        else:\n",
    "            m_arf = mean_model\n",
    "            \n",
    "        if self.rmf is not None:\n",
    "            ymodel = self.rmf.apply_rmf(m_arf)\n",
    "        else:\n",
    "            ymodel = mean_model\n",
    "                \n",
    "        ymodel += 1e-20\n",
    "        \n",
    "        ymodel *= self.exposure\n",
    "        # compute the log-likelihood\n",
    "        loglike = np.sum(-ymodel + self.y*np.log(ymodel) \\\n",
    "               - scipy_gammaln(self.y + 1.))\n",
    "\n",
    "        if np.isfinite(loglike):\n",
    "            return loglike\n",
    "        else:\n",
    "            return -1.e16\n",
    "\n",
    "    def __call__(self, pars):\n",
    "        l = -self.evaluate(pars)\n",
    "        #print(l)\n",
    "        return l\n"
   ]
  },
  {
   "cell_type": "code",
   "execution_count": 25,
   "metadata": {
    "collapsed": false,
    "deletable": true,
    "editable": true
   },
   "outputs": [
    {
     "data": {
      "text/plain": [
       "1381.2197806186014"
      ]
     },
     "execution_count": 25,
     "metadata": {},
     "output_type": "execute_result"
    }
   ],
   "source": [
    "loglike = PoissonLikelihood(energ_lo, energ_hi, counts, pl, arf=arf, rmf=rmf, exposure=exposure)\n",
    "loglike([1.0, 2.0])"
   ]
  },
  {
   "cell_type": "code",
   "execution_count": 26,
   "metadata": {
    "collapsed": true,
    "deletable": true,
    "editable": true
   },
   "outputs": [],
   "source": [
    "from scipy.optimize import minimize"
   ]
  },
  {
   "cell_type": "code",
   "execution_count": 27,
   "metadata": {
    "collapsed": true,
    "deletable": true,
    "editable": true
   },
   "outputs": [],
   "source": [
    "opt = minimize(loglike, [1.0, 2.0], method=\"powell\")"
   ]
  },
  {
   "cell_type": "code",
   "execution_count": 28,
   "metadata": {
    "collapsed": false,
    "deletable": true,
    "editable": true
   },
   "outputs": [
    {
     "data": {
      "text/plain": [
       "   direc: array([[ 0.        ,  1.        ],\n",
       "       [ 0.00298068,  0.00127701]])\n",
       "     fun: 1377.9732127624425\n",
       " message: 'Optimization terminated successfully.'\n",
       "    nfev: 107\n",
       "     nit: 3\n",
       "  status: 0\n",
       " success: True\n",
       "       x: array([ 1.00281117,  2.00147611])"
      ]
     },
     "execution_count": 28,
     "metadata": {},
     "output_type": "execute_result"
    }
   ],
   "source": [
    "opt"
   ]
  },
  {
   "cell_type": "code",
   "execution_count": 29,
   "metadata": {
    "collapsed": false,
    "deletable": true,
    "editable": true
   },
   "outputs": [],
   "source": [
    "m_fit = pl.calculate(energ_lo, energ_hi)\n",
    "m_fit_arf = arf.apply_arf(m_fit)\n",
    "m_fit_rmf = rmf.apply_rmf(m_fit_arf) * exposure"
   ]
  },
  {
   "cell_type": "code",
   "execution_count": 30,
   "metadata": {
    "collapsed": false,
    "deletable": true,
    "editable": true
   },
   "outputs": [
    {
     "data": {
      "text/plain": [
       "<matplotlib.legend.Legend at 0x106cab470>"
      ]
     },
     "execution_count": 30,
     "metadata": {},
     "output_type": "execute_result"
    },
    {
     "data": {
      "image/png": "[encoded data removed]",
      "text/plain": [
       "<matplotlib.figure.Figure at 0x10852e518>"
      ]
     },
     "metadata": {},
     "output_type": "display_data"
    }
   ],
   "source": [
    "plt.figure()\n",
    "plt.plot(bin_mid, counts, label=\"data\")\n",
    "plt.plot(bin_mid, m_fit_rmf, label=\"model with ARF\")\n",
    "plt.legend()"
   ]
  },
  {
   "cell_type": "markdown",
   "metadata": {
    "deletable": true,
    "editable": true
   },
   "source": [
    "The sherpa stuff works! Good!\n",
    "\n",
    "## Making Our Own ARF/RMF Classes\n",
    "\n",
    "Ideally, we don't want to be dependent on the `sherpa` implementation.\n",
    "We're now going to write our own implementations, and then test them on the model above.\n",
    "\n",
    "Let's write a function that applies the ARF, which is just straightforward element-wise multiplication:"
   ]
  },
  {
   "cell_type": "code",
   "execution_count": 31,
   "metadata": {
    "collapsed": true
   },
   "outputs": [],
   "source": [
    "def apply_arf(spec, specresp, exposure=1.0):\n",
    "    \"\"\"\n",
    "    Apply the anxilliary response to \n",
    "    a spectrum. \n",
    "    \n",
    "    Parameters\n",
    "    ----------\n",
    "    spec : numpy.ndarray\n",
    "        The source spectrum in flux units\n",
    "        \n",
    "    specresp: numpy.ndarray\n",
    "        The response \n",
    "        \n",
    "    exposure : float\n",
    "        The exposure of the observation\n",
    "        \n",
    "    Returns\n",
    "    -------\n",
    "    spec_arf : numpy.ndarray\n",
    "        The spectrum with the response applied.\n",
    "    \n",
    "    \"\"\"\n",
    "    spec_arf = spec*specresp*exposure\n",
    "    return spec_arf"
   ]
  },
  {
   "cell_type": "code",
   "execution_count": 32,
   "metadata": {
    "collapsed": true
   },
   "outputs": [],
   "source": [
    "m_arf = apply_arf(m, arf.specresp)"
   ]
  },
  {
   "cell_type": "code",
   "execution_count": 33,
   "metadata": {
    "collapsed": true
   },
   "outputs": [],
   "source": [
    "m_arf_sherpa = arf.apply_arf(m)"
   ]
  },
  {
   "cell_type": "code",
   "execution_count": 34,
   "metadata": {
    "collapsed": false
   },
   "outputs": [
    {
     "data": {
      "text/plain": [
       "True"
      ]
     },
     "execution_count": 34,
     "metadata": {},
     "output_type": "execute_result"
    }
   ],
   "source": [
    "np.allclose(m_arf, m_arf_sherpa)"
   ]
  },
  {
   "cell_type": "code",
   "execution_count": 35,
   "metadata": {
    "collapsed": false
   },
   "outputs": [
    {
     "data": {
      "text/plain": [
       "<matplotlib.legend.Legend at 0x1084967f0>"
      ]
     },
     "execution_count": 35,
     "metadata": {},
     "output_type": "execute_result"
    },
    {
     "data": {
      "image/png": "[encoded data removed]",
      "text/plain": [
       "<matplotlib.figure.Figure at 0x107c999e8>"
      ]
     },
     "metadata": {},
     "output_type": "display_data"
    }
   ],
   "source": [
    "plt.plot(m_arf, label=\"Clarsach ARF\")\n",
    "plt.plot(m_arf_sherpa, label=\"Sherpa ARF\")\n",
    "plt.legend()"
   ]
  },
  {
   "cell_type": "markdown",
   "metadata": {},
   "source": [
    "Let's look at the RMF, which is more complex. This requires a matrix multiplication. However, the response matrices are compressed to remove zeros and save space in memory, so they require a little more complex fiddling. Here's an implementation that is basically almost a line-by-line translation of the C++ code:"
   ]
  },
  {
   "cell_type": "code",
   "execution_count": 36,
   "metadata": {
    "collapsed": true,
    "deletable": true,
    "editable": true
   },
   "outputs": [],
   "source": [
    "def rmf_fold(spec, rmf, nchannels=None):\n",
    "    \n",
    "    #current_num_groups = 0\n",
    "    #current_num_chans = 0\n",
    "    \n",
    "    nchannels = spec.shape[0]\n",
    "    \n",
    "    resp_idx = 0\n",
    "    first_chan_idx = 0\n",
    "    num_chans_idx =0\n",
    "    counts_idx = 0\n",
    "    \n",
    "    counts = np.zeros(nchannels)\n",
    "    \n",
    "    for i in range(nchannels):\n",
    "        source_bin_i = spec[i]\n",
    "        current_num_groups = rmf.n_grp[i]\n",
    "        \n",
    "        while current_num_groups:\n",
    "            counts_idx = int(rmf.f_chan[first_chan_idx] - rmf.offset)\n",
    "            current_num_chans = rmf.n_chan[num_chans_idx]\n",
    "            \n",
    "            first_chan_idx += 1\n",
    "            num_chans_idx +=1 \n",
    "            \n",
    "            while current_num_chans:\n",
    "                counts[counts_idx] += rmf.matrix[resp_idx] * source_bin_i\n",
    "                counts_idx += 1\n",
    "                resp_idx += 1\n",
    "                current_num_chans -= 1\n",
    "            \n",
    "            current_num_groups -= 1\n",
    "            \n",
    "    return counts\n",
    "\n",
    "\n"
   ]
  },
  {
   "cell_type": "markdown",
   "metadata": {
    "deletable": true,
    "editable": true
   },
   "source": [
    "Let's see if we can make this more vectorized:"
   ]
  },
  {
   "cell_type": "code",
   "execution_count": 37,
   "metadata": {
    "collapsed": true,
    "deletable": true,
    "editable": true
   },
   "outputs": [],
   "source": [
    "def rmf_fold_vector(spec, rmf, nchannels=None):\n",
    "    \"\"\"\n",
    "    Fold the spectrum through the redistribution matrix.\n",
    "    \n",
    "    Parameters\n",
    "    ----------\n",
    "    spec : numpy.ndarray\n",
    "        The (model) spectrum to be folded\n",
    "        \n",
    "    rmf : sherpa.RMFData object\n",
    "        The object with the RMF data\n",
    "    \n",
    "    \"\"\"    \n",
    "    # get the number of channels in the data\n",
    "    nchannels = spec.shape[0]\n",
    "    \n",
    "    # an empty array for the output counts\n",
    "    counts = np.zeros(nchannels)\n",
    "    \n",
    "    #print('len(nchannels): ' + str(nchannels))\n",
    "    # index for n_chan and f_chan incrementation\n",
    "    k = 0\n",
    "    \n",
    "    # index for the response matrix incrementation\n",
    "    resp_idx = 0\n",
    "\n",
    "    # loop over all channels\n",
    "    for i in range(nchannels):\n",
    "        \n",
    "        # this is the current bin in the flux spectrum to \n",
    "        # be folded\n",
    "        source_bin_i = spec[i]\n",
    "        \n",
    "        # get the current number of groups \n",
    "        current_num_groups = rmf.n_grp[i]\n",
    "        \n",
    "        for j in range(current_num_groups):\n",
    "            counts_idx = int(rmf.f_chan[k] - rmf.offset)\n",
    "            current_num_chans = int(rmf.n_chan[k])\n",
    "            \n",
    "            k += 1\n",
    "            \n",
    "            counts[counts_idx:counts_idx+current_num_chans] += rmf.matrix[resp_idx:resp_idx+current_num_chans] * source_bin_i\n",
    "            resp_idx += current_num_chans\n",
    "            \n",
    "    return counts\n",
    "\n"
   ]
  },
  {
   "cell_type": "markdown",
   "metadata": {
    "deletable": true,
    "editable": true
   },
   "source": [
    "Let's time the different implementations and compare them to the `sherpa` version (which is basically a wrapper around the C++):"
   ]
  },
  {
   "cell_type": "code",
   "execution_count": 38,
   "metadata": {
    "collapsed": false,
    "deletable": true,
    "editable": true
   },
   "outputs": [
    {
     "name": "stdout",
     "output_type": "stream",
     "text": [
      "10 loops, best of 3: 124 ms per loop\n"
     ]
    }
   ],
   "source": [
    "# not vectorized version\n",
    "m_rmf = rmf_fold(m_arf, rmf)\n",
    "%timeit m_rmf = rmf_fold(m_arf, rmf)"
   ]
  },
  {
   "cell_type": "code",
   "execution_count": 39,
   "metadata": {
    "collapsed": false,
    "deletable": true,
    "editable": true
   },
   "outputs": [
    {
     "name": "stdout",
     "output_type": "stream",
     "text": [
      "100 loops, best of 3: 6.64 ms per loop\n"
     ]
    }
   ],
   "source": [
    "# vectorized version\n",
    "m_rmf_v = rmf_fold_vector(m_arf, rmf)\n",
    "%timeit m_rmf_v = rmf_fold_vector(m_arf, rmf)"
   ]
  },
  {
   "cell_type": "code",
   "execution_count": 40,
   "metadata": {
    "collapsed": false,
    "deletable": true,
    "editable": true
   },
   "outputs": [
    {
     "name": "stdout",
     "output_type": "stream",
     "text": [
      "10000 loops, best of 3: 124 µs per loop\n"
     ]
    }
   ],
   "source": [
    "# C++ (sherpa) version\n",
    "m_rmf2 = rmf.apply_rmf(m_arf)\n",
    "%timeit m_rmf2 = rmf.apply_rmf(m_arf)"
   ]
  },
  {
   "cell_type": "markdown",
   "metadata": {
    "deletable": true,
    "editable": true
   },
   "source": [
    "So my vectorized implementation is ~20 times slower than the sherpa version, and the non-vectorized version is *really* slow. But are they all the same?"
   ]
  },
  {
   "cell_type": "code",
   "execution_count": 41,
   "metadata": {
    "collapsed": false,
    "deletable": true,
    "editable": true
   },
   "outputs": [
    {
     "data": {
      "text/plain": [
       "True"
      ]
     },
     "execution_count": 41,
     "metadata": {},
     "output_type": "execute_result"
    }
   ],
   "source": [
    "np.allclose(m_rmf_v[:len(m_rmf2)], m_rmf2)"
   ]
  },
  {
   "cell_type": "code",
   "execution_count": 42,
   "metadata": {
    "collapsed": false,
    "deletable": true,
    "editable": true
   },
   "outputs": [
    {
     "data": {
      "text/plain": [
       "True"
      ]
     },
     "execution_count": 42,
     "metadata": {},
     "output_type": "execute_result"
    }
   ],
   "source": [
    "np.allclose(m_rmf[:len(m_rmf2)], m_rmf2)"
   ]
  },
  {
   "cell_type": "markdown",
   "metadata": {
    "deletable": true,
    "editable": true
   },
   "source": [
    "They are! It looks like for this particular RXTE data set, it's working! \n",
    "\n",
    "## Making an ARF/RMF Class\n",
    "\n",
    "the ARF and RMF code would live well in a class, so let's wrap it into a class:"
   ]
  },
  {
   "cell_type": "code",
   "execution_count": 43,
   "metadata": {
    "collapsed": false,
    "deletable": true,
    "editable": true
   },
   "outputs": [],
   "source": [
    "class RMF(object):\n",
    "    \n",
    "    def __init__(self, filename):\n",
    "        \n",
    "        self._load_rmf(filename)\n",
    "        pass\n",
    "    \n",
    "    def _load_rmf(self, filename):\n",
    "        \"\"\"\n",
    "        Load an RMF from a FITS file.\n",
    "        \n",
    "        Parameters\n",
    "        ----------\n",
    "        filename : str\n",
    "            The file name with the RMF file\n",
    "            \n",
    "        Attributes\n",
    "        ----------\n",
    "        n_grp : numpy.ndarray\n",
    "            the Array with the number of channels in each \n",
    "            channel set\n",
    "        \n",
    "        f_chan : numpy.ndarray\n",
    "            The starting channel for each channel group;\n",
    "            If an element i in n_grp > 1, then the resulting \n",
    "            row entry in f_chan will be a list of length n_grp[i];\n",
    "            otherwise it will be a single number\n",
    "            \n",
    "        n_chan : numpy.ndarray\n",
    "            The number of channels in each channel group. The same \n",
    "            logic as for f_chan applies\n",
    "            \n",
    "        matrix : numpy.ndarray\n",
    "            The redistribution matrix as a flattened 1D vector\n",
    "            \n",
    "        energ_lo : numpy.ndarray\n",
    "            The lower edges of the energy bins\n",
    "        \n",
    "        energ_hi : numpy.ndarray\n",
    "            The upper edges of the energy bins\n",
    "            \n",
    "        detchans : int\n",
    "            The number of channels in the detector\n",
    "        \n",
    "        \"\"\"\n",
    "        # open the FITS file and extract the MATRIX extension\n",
    "        # which contains the redistribution matrix and \n",
    "        # anxillary information\n",
    "        hdulist = fits.open(filename)\n",
    "\n",
    "        # get all the extension names\n",
    "        extnames = np.array([h.name for h in hdulist])\n",
    "\n",
    "        # figure out the right extension to use\n",
    "        if \"MATRIX\" in extnames:\n",
    "            h = hdulist[\"MATRIX\"]\n",
    "\n",
    "        elif \"SPECRESP MATRIX\" in extnames:\n",
    "            h = hdulist[\"SPECRESP MATRIX\"]\n",
    "\n",
    "        data = h.data\n",
    "        hdr = h.header\n",
    "        hdulist.close()\n",
    "        \n",
    "        # extract + store the attributes described in the docstring \n",
    "        n_grp = np.array(data.field(\"N_GRP\"))\n",
    "        f_chan = np.array(data.field('F_CHAN'))\n",
    "        n_chan = np.array(data.field(\"N_CHAN\"))\n",
    "        matrix = np.array(data.field(\"MATRIX\"))\n",
    "\n",
    "        self.energ_lo = np.array(data.field(\"ENERG_LO\"))\n",
    "        self.energ_hi = np.array(data.field(\"ENERG_HI\"))\n",
    "        self.detchans = hdr[\"DETCHANS\"]\n",
    "        self.offset = self.__get_tlmin(h)\n",
    "\n",
    "        # flatten the variable-length arrays\n",
    "        self.n_grp, self.f_chan, self.n_chan, self.matrix = \\\n",
    "                self.__flatten_arrays(n_grp, f_chan, n_chan, matrix)\n",
    "        \n",
    "        return\n",
    "    \n",
    "    def __get_tlmin(self, h):\n",
    "        \"\"\"\n",
    "        Get the tlmin keyword for `F_CHAN`.\n",
    "        \n",
    "        Parameters\n",
    "        ----------\n",
    "        h : an astropy.io.fits.hdu.table.BinTableHDU object\n",
    "            The extension containing the `F_CHAN` column\n",
    "            \n",
    "        Returns\n",
    "        -------\n",
    "        tlmin : int\n",
    "            The tlmin keyword\n",
    "        \"\"\"\n",
    "        # get the header\n",
    "        hdr = h.header\n",
    "        # get the keys of all \n",
    "        keys = np.array(list(hdr.keys()))\n",
    "        \n",
    "        # find the place where the tlmin keyword is defined\n",
    "        t = np.array([\"TLMIN\" in k for k in keys])\n",
    "        \n",
    "        # get the index of the TLMIN keyword\n",
    "        tlmin_idx = np.hstack(np.where(t))[0]\n",
    "        \n",
    "        # get the corresponding value\n",
    "        tlmin = np.int(list(hdr.items())[tlmin_idx][1])\n",
    "        \n",
    "        return tlmin\n",
    "        \n",
    "    def __flatten_arrays(self, n_grp, f_chan, n_chan, matrix):\n",
    "        \n",
    "        # find all non-zero groups\n",
    "        nz_idx = (n_grp > 0)\n",
    "        \n",
    "        # stack all non-zero rows in the matrix\n",
    "        matrix_flat = np.hstack(matrix[nz_idx])\n",
    "        \n",
    "        # some matrices actually have more elements\n",
    "        # than groups in `n_grp`, so we'll only pick out\n",
    "        # those values that have a correspondence in\n",
    "        # n_grp\n",
    "        f_chan_new = []\n",
    "        n_chan_new = []\n",
    "        for i,t in enumerate(nz_idx):\n",
    "            if t:\n",
    "                n = n_grp[i]\n",
    "                f = f_chan[i]\n",
    "                nc = n_chan[i]\n",
    "                f_chan_new.append(f[:n])\n",
    "                n_chan_new.append(nc[:n])\n",
    "\n",
    "        n_chan_flat = np.hstack(n_chan_new)\n",
    "        f_chan_flat = np.hstack(f_chan_new)\n",
    "\n",
    "        # if n_chan is zero, we'll remove those as well.\n",
    "        nz_idx2 = (n_chan_flat > 0)\n",
    "        n_chan_flat = n_chan_flat[nz_idx2]\n",
    "        f_chan_flat = f_chan_flat[nz_idx2]\n",
    "        \n",
    "        return n_grp, f_chan_flat, n_chan_flat, matrix_flat\n",
    "            \n",
    "    def apply_rmf(self, spec):\n",
    "        \"\"\"\n",
    "        Fold the spectrum through the redistribution matrix.\n",
    "\n",
    "        The redistribution matrix is saved as a flattened 1-dimensional \n",
    "        vector to save space. In reality, for each entry in the flux \n",
    "        vector, there exists one or more sets of channels that this \n",
    "        flux is redistributed into. The additional arrays `n_grp`, \n",
    "        `f_chan` and `n_chan` store this information:\n",
    "            * `n_group` stores the number of channel groups for each \n",
    "              energy bin\n",
    "            * `f_chan` stores the *first channel* that each channel \n",
    "              for each channel set \n",
    "            * `n_chan` stores the number of channels in each channel \n",
    "              set \n",
    "              \n",
    "        As a result, for a given energy bin i, we need to look up the \n",
    "        number of channel sets in `n_grp` for that energy bin. We \n",
    "        then need to loop over the number of channel sets. For each \n",
    "        channel set, we look up the first channel into which flux \n",
    "        will be distributed as well as the number of channels in the \n",
    "        group. We then need to also loop over the these channels and \n",
    "        actually use the corresponding elements in the redistribution \n",
    "        matrix to redistribute the photon flux into channels. \n",
    "        \n",
    "        All of this is basically a big bookkeeping exercise in making \n",
    "        sure to get the indices right.\n",
    "        \n",
    "        Parameters\n",
    "        ----------\n",
    "        spec : numpy.ndarray\n",
    "            The (model) spectrum to be folded\n",
    "\n",
    "        Returns\n",
    "        -------\n",
    "        counts : numpy.ndarray\n",
    "            The (model) spectrum after folding, in \n",
    "            counts/s/channel\n",
    "\n",
    "        \"\"\"    \n",
    "\n",
    "        # an empty array for the output counts\n",
    "        counts = np.zeros_like(spec)\n",
    "\n",
    "        # index for n_chan and f_chan incrementation\n",
    "        k = 0\n",
    "\n",
    "        # index for the response matrix incrementation\n",
    "        resp_idx = 0\n",
    "\n",
    "        # loop over all channels\n",
    "        for i in range(spec.shape[0]):\n",
    "            # this is the current bin in the flux spectrum to\n",
    "            # be folded\n",
    "            source_bin_i = spec[i]\n",
    "\n",
    "            # get the current number of groups \n",
    "            current_num_groups = self.n_grp[i]\n",
    "\n",
    "            # loop over the current number of groups\n",
    "            for j in range(current_num_groups):\n",
    "\n",
    "                current_num_chans = int(self.n_chan[k])\n",
    "\n",
    "                if current_num_chans == 0:\n",
    "                    k += 1\n",
    "                    resp_idx += current_num_chans\n",
    "                    continue\n",
    "\n",
    "\n",
    "                else:\n",
    "                    # get the right index for the start of the counts array \n",
    "                    # to put the data into\n",
    "                    counts_idx = int(self.f_chan[k] - self.offset)\n",
    "                    # this is the current number of channels to use\n",
    "                    \n",
    "                    k += 1\n",
    "                    # add the flux to the subarray of the counts array that starts with \n",
    "                    # counts_idx and runs over current_num_chans channels\n",
    "                    counts[counts_idx:counts_idx+current_num_chans] +=  self.matrix[resp_idx:resp_idx+current_num_chans] * \\\n",
    "                                                                        np.float(source_bin_i)\n",
    "                    # iterate the response index for next round\n",
    "                    resp_idx += current_num_chans\n",
    "\n",
    "\n",
    "        return counts[:self.detchans]\n"
   ]
  },
  {
   "cell_type": "markdown",
   "metadata": {
    "deletable": true,
    "editable": true
   },
   "source": [
    "Let's make an object of that class and then make another model with the RMF applied:"
   ]
  },
  {
   "cell_type": "code",
   "execution_count": 44,
   "metadata": {
    "collapsed": false,
    "deletable": true,
    "editable": true
   },
   "outputs": [],
   "source": [
    "rmf_new = RMF(datadir+\"rxte_hexte_97mar20c_pwa.rmf\")\n",
    "m_rmf = rmf_new.apply_rmf(m_arf)"
   ]
  },
  {
   "cell_type": "markdown",
   "metadata": {
    "deletable": true,
    "editable": true
   },
   "source": [
    "Hooray! What does the total spectrum look like?"
   ]
  },
  {
   "cell_type": "code",
   "execution_count": 45,
   "metadata": {
    "collapsed": false,
    "deletable": true,
    "editable": true
   },
   "outputs": [
    {
     "data": {
      "text/plain": [
       "[<matplotlib.lines.Line2D at 0x1087d5e10>]"
      ]
     },
     "execution_count": 45,
     "metadata": {},
     "output_type": "execute_result"
    },
    {
     "data": {
      "image/png": "[encoded data removed]",
      "text/plain": [
       "<matplotlib.figure.Figure at 0x107c99160>"
      ]
     },
     "metadata": {},
     "output_type": "display_data"
    }
   ],
   "source": [
    "plt.figure(figsize=(10, 6))\n",
    "plt.plot(m_rmf)\n",
    "#plt.plot(m_rmf_v)"
   ]
  },
  {
   "cell_type": "markdown",
   "metadata": {
    "deletable": true,
    "editable": true
   },
   "source": [
    "There is, of course, also an implementation in `clarsach`:"
   ]
  },
  {
   "cell_type": "code",
   "execution_count": 46,
   "metadata": {
    "collapsed": true,
    "deletable": true,
    "editable": true
   },
   "outputs": [],
   "source": [
    "from clarsach import respond"
   ]
  },
  {
   "cell_type": "code",
   "execution_count": 47,
   "metadata": {
    "collapsed": false,
    "deletable": true,
    "editable": true
   },
   "outputs": [],
   "source": [
    "rmf_c = respond.RMF(datadir+\"rxte_hexte_97mar20c_pwa.rmf\")"
   ]
  },
  {
   "cell_type": "code",
   "execution_count": 48,
   "metadata": {
    "collapsed": false,
    "deletable": true,
    "editable": true
   },
   "outputs": [],
   "source": [
    "m_rmf_c = rmf_new.apply_rmf(m_arf)"
   ]
  },
  {
   "cell_type": "code",
   "execution_count": 49,
   "metadata": {
    "collapsed": false,
    "deletable": true,
    "editable": true
   },
   "outputs": [
    {
     "data": {
      "text/plain": [
       "True"
      ]
     },
     "execution_count": 49,
     "metadata": {},
     "output_type": "execute_result"
    }
   ],
   "source": [
    "np.allclose(m_rmf_c, m_rmf2)"
   ]
  },
  {
   "cell_type": "code",
   "execution_count": 50,
   "metadata": {
    "collapsed": false,
    "deletable": true,
    "editable": true
   },
   "outputs": [
    {
     "data": {
      "text/plain": [
       "[<matplotlib.lines.Line2D at 0x108527470>]"
      ]
     },
     "execution_count": 50,
     "metadata": {},
     "output_type": "execute_result"
    },
    {
     "data": {
      "image/png": "[encoded data removed]",
      "text/plain": [
       "<matplotlib.figure.Figure at 0x1085a9ef0>"
      ]
     },
     "metadata": {},
     "output_type": "display_data"
    }
   ],
   "source": [
    "plt.figure()\n",
    "plt.plot(bin_mid, counts, label=\"data\")\n",
    "plt.plot(bin_mid, m_rmf_c*exposure, label=\"model\", alpha=0.5)"
   ]
  },
  {
   "cell_type": "markdown",
   "metadata": {
    "deletable": true,
    "editable": true
   },
   "source": [
    "And it works! Woo!"
   ]
  }
 ],
 "metadata": {
  "kernelspec": {
   "display_name": "Python 3",
   "language": "python",
   "name": "python3"
  },
  "language_info": {
   "codemirror_mode": {
    "name": "ipython",
    "version": 3
   },
   "file_extension": ".py",
   "mimetype": "text/x-python",
   "name": "python",
   "nbconvert_exporter": "python",
   "pygments_lexer": "ipython3",
   "version": "3.5.3"
  }
 },
 "nbformat": 4,
 "nbformat_minor": 2
}
